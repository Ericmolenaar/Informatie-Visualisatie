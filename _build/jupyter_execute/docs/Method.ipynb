{
 "cells": [
  {
   "cell_type": "markdown",
   "id": "bc2391f1",
   "metadata": {},
   "source": [
    "# Method"
   ]
  },
  {
   "cell_type": "markdown",
   "id": "af43bc2f",
   "metadata": {},
   "source": [
    "### Dataset descriptions"
   ]
  },
  {
   "cell_type": "markdown",
   "id": "4f58341d",
   "metadata": {},
   "source": [
    "For this datastory project we found the following two relevant datasets:\n",
    "\n",
    "- **World Bank World Development Indicators (source: kaggle.com)**: The dataset comprises World Development Indicators from 1960 to 2022, sourced from the World Bank database. It encompasses macroeconomic, social, political, and environmental data for all countries and regions covered by the World Bank. The dataset includes information on 268 countries and regions, with 48 numerical features. Note that several entries are missing for various reasons. The dataset contains 17272 records and 50 variables.\n",
    "\n",
    "- **World Bank Life expectancy & Socio-Economics (source: kaggle.com)**: This dataset includes life expectancy at birth data along with socio-economic indicators such as GDP per capita, education levels, healthcare access, and other relevant factors. It provides insights into how these variables influence life expectancy globally. The dataset contains 3306 records and 16 variables."
   ]
  },
  {
   "cell_type": "markdown",
   "id": "0a97dd03",
   "metadata": {},
   "source": [
    "### Data cleaning and aggregating"
   ]
  },
  {
   "cell_type": "markdown",
   "id": "2aa7d8e4",
   "metadata": {},
   "source": [
    "To process the data, we first loaded the two dataframes. We ensured they had overlapping years by filtering the data from 2001 to 2019. To merge the datasets, we added a `Year` column to one dataset, matching the format of the `Year` column in the other. We also renamed the `Country Name` column in the Life Expectancy dataset to `country` to align with the World Bank Development Indicators dataset. We then merged the datasets based on the `country` and `Year` columns. After merging, we selected the columns relevant to our project. The final dataset was saved as a parquet file which contains 3,306 rows and 23 columns.\n",
    "\n",
    "Aggregation steps that are specific to a graph will be described in the following sections. "
   ]
  },
  {
   "cell_type": "markdown",
   "id": "e3e9564b",
   "metadata": {},
   "source": [
    "### Variables"
   ]
  },
  {
   "cell_type": "markdown",
   "id": "31957161",
   "metadata": {},
   "source": [
    "The variables in the final dataset can be classified in the following categories:\n",
    "\n",
    "**Nominal / Discrete variables**: `country`, `IncomeGroup`\n",
    "\n",
    "**Ordinal / Discrete variables**: `Corruption`\n",
    "\n",
    "**Interval / Discrete variables**: `date`, `Year`\n",
    "\n",
    "**Ratio / Continuous variables**: `land_area`, `control_of_corruption_estimate`, `control_of_corruption_std`, `government_effectiveness_estimate`, `human_capital_index`, `political_stability_std`, `intentional_homicides`, `Life Expectancy World Bank`, `Prevalence of Undernourishment`, `Health Expenditure`, `Education Expenditure`, `Unemployment`, `Life_expectancy_percent`, `Sanitation`, `life_expectancy_at_birth`\n",
    "\n",
    "Variables that were used for this datastory:\n",
    "- `country`: Represents the name of the country. \n",
    "- `control_of_corruption_estimate`: Represents the estimate of the control of corruption in each country. Higher values indicate better control of corruption. The values typically range from approximately -2.5 (weak control of corruption) to 2.5 (strong control of corruption).\n",
    "- `goverment_effectiveness_estimate`: Represents the estimate of government effectiveness in each country. Higher values indicate more effective governance. The values typically range from approximately -2.5 (weak governance) to 2.5 (strong governance).\n",
    "- `IncomeGroup`: This variable categorizes countries into different income groups (e.g., Low income, Lower middle income, Upper middle income, High income). \n",
    "- `life_expectancy_at_birth`: Represents the average life expectancy at birth in years for each country. \n",
    "- `Life_expectancy_percent`: Represents the life expectancy of each country as a percentage of the maximum life expectancy. It is calculated using the formula: (life_expectancy_at_birth / max_life_expectancy) × 100.\n",
    "- `Sanitation`: Represents the percentage of the population with access to sanitation facilities. \n",
    "\n"
   ]
  }
 ],
 "metadata": {
  "kernelspec": {
   "display_name": "Python 3 (ipykernel)",
   "language": "python",
   "name": "python3"
  },
  "language_info": {
   "codemirror_mode": {
    "name": "ipython",
    "version": 3
   },
   "file_extension": ".py",
   "mimetype": "text/x-python",
   "name": "python",
   "nbconvert_exporter": "python",
   "pygments_lexer": "ipython3",
   "version": "3.11.4"
  }
 },
 "nbformat": 4,
 "nbformat_minor": 5
}