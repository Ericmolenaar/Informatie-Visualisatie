{
 "cells": [
  {
   "cell_type": "markdown",
   "id": "1c0b45ef",
   "metadata": {},
   "source": [
    "# Reflection"
   ]
  },
  {
   "cell_type": "markdown",
   "id": "6483239b",
   "metadata": {},
   "source": [
    "## TA and peer feedback\n",
    "\n",
    "Our team, D2, collaborated with D3 and our TA to receive peer feedback. During these sessions, each group pitched their work from the past three weeks sequentially. Following each pitch, the other group and our TA provided feedback, highlighting both positive aspects and areas for improvement.\n",
    "\n",
    "At that juncture, our work had already established a strong foundation; however, we received feedback on several fronts, notably the need to incorporate more scientific literature. Below is a summary of the feedback provided by both the other group and our TA:\n",
    "\n",
    "- Ensure clarity in the figure \"Corruption control vs life expectancy per year\" by clearly indicating which country each point represents when hovered over, considering that the year is already indicated by the slider. Remove the legend from the right corner.\n",
    "- Clarify the representation of colored lines in the figure \"Corruption Control and Government Effectiveness by Income Group (2004-2019).\"\n",
    "- Maintain consistency in color coding across figures; for instance, use distinct colors to differentiate variables consistently in visualizations.\n",
    "\n",
    "Following this constructive feedback session, our team promptly convened to integrate these suggestions into our project. We immediately devised a new plan to apply these improvements to our final project."
   ]
  },
  {
   "cell_type": "markdown",
   "id": "db2ffb63",
   "metadata": {},
   "source": [
    "## Self-reflection\n",
    "\n",
    "Throughout this project, we encountered both successes and challenges. Initially, we faced difficulties in selecting a suitable topic and identifying appropriate databases. However, once we secured access to relevant data sources, our progress improved significantly as we began visualizing relationships between various variables using graphs.\n",
    "\n",
    "As we explored the data, we realized our initial project idea from the proposal wasn't quite fitting with our available data. Thankfully, our TA helped us pivot and find new perspectives that became the basis for our data story.\n",
    "\n",
    "If we had more time for this project, it would have been interesting to delve deeper into exploring correlations between additional variables within this context. For instance, investigating how wealth inequality might influence life expectancy in different countries could have provided further insights."
   ]
  },
  {
   "cell_type": "markdown",
   "id": "1f137edd",
   "metadata": {},
   "source": [
    "## Work distribution\n",
    "\n",
    "We communicated through lectures, meetings, and WhatsApp during the project. In our first lecture, we installed JupyterBook to convert our Jupyter notebook into a website via GitHub. After that, we had several meetings to meet deadlines, receiving feedback on June 20, 2024. In the final weeks, we processed this feedback and integrated our notebook into the GitHub site. WhatsApp helped us collaborate effectively. Here’s how we divided the tasks:\n",
    "\n",
    "*Elaine Jans:* focused on cleaning datasets and creating graphs to represent relationships. Also presented our project during the peer review.\n",
    "\n",
    "*Joy Filtenborg:* Adjusted/created graphs and added descriptions for both the graphs and dataset.\n",
    "\n",
    "*Khang Nguyen:* Assisted in finding datasets and covered the literature reasearch for this project.\n",
    "\n",
    "*Eric Molenaar:* Described the reflection, peer review, and task distribution, and integrated the Jupyter notebook into the GitHub website."
   ]
  }
 ],
 "metadata": {
  "kernelspec": {
   "display_name": "Python 3 (ipykernel)",
   "language": "python",
   "name": "python3"
  },
  "language_info": {
   "codemirror_mode": {
    "name": "ipython",
    "version": 3
   },
   "file_extension": ".py",
   "mimetype": "text/x-python",
   "name": "python",
   "nbconvert_exporter": "python",
   "pygments_lexer": "ipython3",
   "version": "3.11.4"
  }
 },
 "nbformat": 4,
 "nbformat_minor": 5
}
