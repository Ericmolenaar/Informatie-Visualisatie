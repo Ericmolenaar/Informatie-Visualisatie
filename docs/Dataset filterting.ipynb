{
 "cells": [
  {
   "cell_type": "code",
   "execution_count": 1,
   "id": "8799c19c-6e8b-498d-9035-42db4b24190c",
   "metadata": {},
   "outputs": [],
   "source": [
    "import pandas as pd"
   ]
  },
  {
   "cell_type": "code",
   "execution_count": 3,
   "id": "c6d1c4b8-97bd-46a0-b3af-e5b5139d2596",
   "metadata": {},
   "outputs": [],
   "source": [
    "#importing the dataframes\n",
    "df = pd.read_csv('world_bank_development_indicators.csv', encoding='latin1')\n",
    "ds = pd.read_csv('life expectancy.csv', encoding='latin1')\n",
    "\n",
    "#filtering all the data from 2001 till 2019\n",
    "df['date'] = pd.to_datetime(df['date'])\n",
    "start_date = '2001-01-01'\n",
    "end_date = '2019-01-01'\n",
    "mask = (df['date'] >= start_date) & (df['date'] <= end_date)\n",
    "\n",
    "#making the two datasets, and renaming the country column for the world dataframe\n",
    "world_filter = df.loc[mask]\n",
    "life_df = ds.rename(columns={'Country Name': 'country'})\n",
    "\n",
    "#adding a 'year' column to the life dataframe so that it aligns with the world dataframe\n",
    "world_df = world_filter.copy()\n",
    "world_df.loc[:, 'date'] = pd.to_datetime(world_df['date']) # Convert 'date' column to datetime format using .loc\n",
    "world_df.loc[:, 'Year'] = world_df['date'].dt.year # Extract the year and add it as a new column using .loc\n",
    "\n",
    "#Merging the datasets based on both country and year\n",
    "life_world_df = world_df.merge(life_df, how='inner', on=['country','Year'])"
   ]
  },
  {
   "cell_type": "code",
   "execution_count": 12,
   "id": "ae6c65eb-203f-4c57-92b3-69a2d13900bc",
   "metadata": {},
   "outputs": [],
   "source": [
    "columns = ['country', 'date', 'Year', 'land_area', 'control_of_corruption_estimate', 'control_of_corruption_std', 'goverment_effectiveness_estimate',\n",
    "           'human_capital_index', 'political_stability_estimate', 'political_stability_std', 'birth_rate', 'death_rate', 'life_expectancy_at_birth',\n",
    "           'population', 'intentional_homicides', 'IncomeGroup', 'Life Expectancy World Bank', 'Prevelance of Undernourishment', 'Health Expenditure %',\n",
    "           'Education Expenditure %', 'Unemployment', 'Corruption', 'Sanitation']\n",
    "\n",
    "life_world_df = life_world_df[columns]"
   ]
  }
 ],
 "metadata": {
  "kernelspec": {
   "display_name": "Python 3 (ipykernel)",
   "language": "python",
   "name": "python3"
  },
  "language_info": {
   "codemirror_mode": {
    "name": "ipython",
    "version": 3
   },
   "file_extension": ".py",
   "mimetype": "text/x-python",
   "name": "python",
   "nbconvert_exporter": "python",
   "pygments_lexer": "ipython3",
   "version": "3.11.7"
  }
 },
 "nbformat": 4,
 "nbformat_minor": 5
}
